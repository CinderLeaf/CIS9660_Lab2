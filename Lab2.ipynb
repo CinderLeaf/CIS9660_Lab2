{
  "nbformat": 4,
  "nbformat_minor": 0,
  "metadata": {
    "colab": {
      "name": "Lab2.ipynb",
      "provenance": [],
      "collapsed_sections": []
    },
    "kernelspec": {
      "name": "python3",
      "display_name": "Python 3"
    },
    "language_info": {
      "name": "python"
    }
  },
  "cells": [
    {
      "cell_type": "markdown",
      "source": [
        "Importing necessary libraries"
      ],
      "metadata": {
        "id": "g2-c8OJlG4Cw"
      }
    },
    {
      "cell_type": "code",
      "execution_count": null,
      "metadata": {
        "id": "IHX0DjQWGLbB"
      },
      "outputs": [],
      "source": [
        "import pandas as pd\n",
        "import seaborn as sns\n",
        "import numpy as np\n",
        "import matplotlib.pyplot as plt"
      ]
    },
    {
      "cell_type": "markdown",
      "source": [
        "Import the dataset from a csv file uploaded to GitHub"
      ],
      "metadata": {
        "id": "mfiwrNcFHCvP"
      }
    },
    {
      "cell_type": "code",
      "source": [
        "body = pd.read_csv('https://raw.githubusercontent.com/CinderLeaf/CIS9660_Lab2/main/bodyfat.csv')"
      ],
      "metadata": {
        "id": "WE1ZlfQ7HCCH"
      },
      "execution_count": null,
      "outputs": []
    },
    {
      "cell_type": "code",
      "source": [
        "body.head()"
      ],
      "metadata": {
        "colab": {
          "base_uri": "https://localhost:8080/",
          "height": 270
        },
        "id": "dC3KYfp5IVma",
        "outputId": "4a65d7e3-09f6-4cbb-aead-b24b6d528b26"
      },
      "execution_count": null,
      "outputs": [
        {
          "output_type": "execute_result",
          "data": {
            "text/plain": [
              "   Density  BodyFat  Age  Weight  Height  Neck  Chest  Abdomen    Hip  Thigh  \\\n",
              "0   1.0708     12.3   23  154.25   67.75  36.2   93.1     85.2   94.5   59.0   \n",
              "1   1.0853      6.1   22  173.25   72.25  38.5   93.6     83.0   98.7   58.7   \n",
              "2   1.0414     25.3   22  154.00   66.25  34.0   95.8     87.9   99.2   59.6   \n",
              "3   1.0751     10.4   26  184.75   72.25  37.4  101.8     86.4  101.2   60.1   \n",
              "4   1.0340     28.7   24  184.25   71.25  34.4   97.3    100.0  101.9   63.2   \n",
              "\n",
              "   Knee  Ankle  Biceps  Forearm  Wrist  \n",
              "0  37.3   21.9    32.0     27.4   17.1  \n",
              "1  37.3   23.4    30.5     28.9   18.2  \n",
              "2  38.9   24.0    28.8     25.2   16.6  \n",
              "3  37.3   22.8    32.4     29.4   18.2  \n",
              "4  42.2   24.0    32.2     27.7   17.7  "
            ],
            "text/html": [
              "\n",
              "  <div id=\"df-e33163b3-b7b2-4513-86e6-a20cf7f86984\">\n",
              "    <div class=\"colab-df-container\">\n",
              "      <div>\n",
              "<style scoped>\n",
              "    .dataframe tbody tr th:only-of-type {\n",
              "        vertical-align: middle;\n",
              "    }\n",
              "\n",
              "    .dataframe tbody tr th {\n",
              "        vertical-align: top;\n",
              "    }\n",
              "\n",
              "    .dataframe thead th {\n",
              "        text-align: right;\n",
              "    }\n",
              "</style>\n",
              "<table border=\"1\" class=\"dataframe\">\n",
              "  <thead>\n",
              "    <tr style=\"text-align: right;\">\n",
              "      <th></th>\n",
              "      <th>Density</th>\n",
              "      <th>BodyFat</th>\n",
              "      <th>Age</th>\n",
              "      <th>Weight</th>\n",
              "      <th>Height</th>\n",
              "      <th>Neck</th>\n",
              "      <th>Chest</th>\n",
              "      <th>Abdomen</th>\n",
              "      <th>Hip</th>\n",
              "      <th>Thigh</th>\n",
              "      <th>Knee</th>\n",
              "      <th>Ankle</th>\n",
              "      <th>Biceps</th>\n",
              "      <th>Forearm</th>\n",
              "      <th>Wrist</th>\n",
              "    </tr>\n",
              "  </thead>\n",
              "  <tbody>\n",
              "    <tr>\n",
              "      <th>0</th>\n",
              "      <td>1.0708</td>\n",
              "      <td>12.3</td>\n",
              "      <td>23</td>\n",
              "      <td>154.25</td>\n",
              "      <td>67.75</td>\n",
              "      <td>36.2</td>\n",
              "      <td>93.1</td>\n",
              "      <td>85.2</td>\n",
              "      <td>94.5</td>\n",
              "      <td>59.0</td>\n",
              "      <td>37.3</td>\n",
              "      <td>21.9</td>\n",
              "      <td>32.0</td>\n",
              "      <td>27.4</td>\n",
              "      <td>17.1</td>\n",
              "    </tr>\n",
              "    <tr>\n",
              "      <th>1</th>\n",
              "      <td>1.0853</td>\n",
              "      <td>6.1</td>\n",
              "      <td>22</td>\n",
              "      <td>173.25</td>\n",
              "      <td>72.25</td>\n",
              "      <td>38.5</td>\n",
              "      <td>93.6</td>\n",
              "      <td>83.0</td>\n",
              "      <td>98.7</td>\n",
              "      <td>58.7</td>\n",
              "      <td>37.3</td>\n",
              "      <td>23.4</td>\n",
              "      <td>30.5</td>\n",
              "      <td>28.9</td>\n",
              "      <td>18.2</td>\n",
              "    </tr>\n",
              "    <tr>\n",
              "      <th>2</th>\n",
              "      <td>1.0414</td>\n",
              "      <td>25.3</td>\n",
              "      <td>22</td>\n",
              "      <td>154.00</td>\n",
              "      <td>66.25</td>\n",
              "      <td>34.0</td>\n",
              "      <td>95.8</td>\n",
              "      <td>87.9</td>\n",
              "      <td>99.2</td>\n",
              "      <td>59.6</td>\n",
              "      <td>38.9</td>\n",
              "      <td>24.0</td>\n",
              "      <td>28.8</td>\n",
              "      <td>25.2</td>\n",
              "      <td>16.6</td>\n",
              "    </tr>\n",
              "    <tr>\n",
              "      <th>3</th>\n",
              "      <td>1.0751</td>\n",
              "      <td>10.4</td>\n",
              "      <td>26</td>\n",
              "      <td>184.75</td>\n",
              "      <td>72.25</td>\n",
              "      <td>37.4</td>\n",
              "      <td>101.8</td>\n",
              "      <td>86.4</td>\n",
              "      <td>101.2</td>\n",
              "      <td>60.1</td>\n",
              "      <td>37.3</td>\n",
              "      <td>22.8</td>\n",
              "      <td>32.4</td>\n",
              "      <td>29.4</td>\n",
              "      <td>18.2</td>\n",
              "    </tr>\n",
              "    <tr>\n",
              "      <th>4</th>\n",
              "      <td>1.0340</td>\n",
              "      <td>28.7</td>\n",
              "      <td>24</td>\n",
              "      <td>184.25</td>\n",
              "      <td>71.25</td>\n",
              "      <td>34.4</td>\n",
              "      <td>97.3</td>\n",
              "      <td>100.0</td>\n",
              "      <td>101.9</td>\n",
              "      <td>63.2</td>\n",
              "      <td>42.2</td>\n",
              "      <td>24.0</td>\n",
              "      <td>32.2</td>\n",
              "      <td>27.7</td>\n",
              "      <td>17.7</td>\n",
              "    </tr>\n",
              "  </tbody>\n",
              "</table>\n",
              "</div>\n",
              "      <button class=\"colab-df-convert\" onclick=\"convertToInteractive('df-e33163b3-b7b2-4513-86e6-a20cf7f86984')\"\n",
              "              title=\"Convert this dataframe to an interactive table.\"\n",
              "              style=\"display:none;\">\n",
              "        \n",
              "  <svg xmlns=\"http://www.w3.org/2000/svg\" height=\"24px\"viewBox=\"0 0 24 24\"\n",
              "       width=\"24px\">\n",
              "    <path d=\"M0 0h24v24H0V0z\" fill=\"none\"/>\n",
              "    <path d=\"M18.56 5.44l.94 2.06.94-2.06 2.06-.94-2.06-.94-.94-2.06-.94 2.06-2.06.94zm-11 1L8.5 8.5l.94-2.06 2.06-.94-2.06-.94L8.5 2.5l-.94 2.06-2.06.94zm10 10l.94 2.06.94-2.06 2.06-.94-2.06-.94-.94-2.06-.94 2.06-2.06.94z\"/><path d=\"M17.41 7.96l-1.37-1.37c-.4-.4-.92-.59-1.43-.59-.52 0-1.04.2-1.43.59L10.3 9.45l-7.72 7.72c-.78.78-.78 2.05 0 2.83L4 21.41c.39.39.9.59 1.41.59.51 0 1.02-.2 1.41-.59l7.78-7.78 2.81-2.81c.8-.78.8-2.07 0-2.86zM5.41 20L4 18.59l7.72-7.72 1.47 1.35L5.41 20z\"/>\n",
              "  </svg>\n",
              "      </button>\n",
              "      \n",
              "  <style>\n",
              "    .colab-df-container {\n",
              "      display:flex;\n",
              "      flex-wrap:wrap;\n",
              "      gap: 12px;\n",
              "    }\n",
              "\n",
              "    .colab-df-convert {\n",
              "      background-color: #E8F0FE;\n",
              "      border: none;\n",
              "      border-radius: 50%;\n",
              "      cursor: pointer;\n",
              "      display: none;\n",
              "      fill: #1967D2;\n",
              "      height: 32px;\n",
              "      padding: 0 0 0 0;\n",
              "      width: 32px;\n",
              "    }\n",
              "\n",
              "    .colab-df-convert:hover {\n",
              "      background-color: #E2EBFA;\n",
              "      box-shadow: 0px 1px 2px rgba(60, 64, 67, 0.3), 0px 1px 3px 1px rgba(60, 64, 67, 0.15);\n",
              "      fill: #174EA6;\n",
              "    }\n",
              "\n",
              "    [theme=dark] .colab-df-convert {\n",
              "      background-color: #3B4455;\n",
              "      fill: #D2E3FC;\n",
              "    }\n",
              "\n",
              "    [theme=dark] .colab-df-convert:hover {\n",
              "      background-color: #434B5C;\n",
              "      box-shadow: 0px 1px 3px 1px rgba(0, 0, 0, 0.15);\n",
              "      filter: drop-shadow(0px 1px 2px rgba(0, 0, 0, 0.3));\n",
              "      fill: #FFFFFF;\n",
              "    }\n",
              "  </style>\n",
              "\n",
              "      <script>\n",
              "        const buttonEl =\n",
              "          document.querySelector('#df-e33163b3-b7b2-4513-86e6-a20cf7f86984 button.colab-df-convert');\n",
              "        buttonEl.style.display =\n",
              "          google.colab.kernel.accessAllowed ? 'block' : 'none';\n",
              "\n",
              "        async function convertToInteractive(key) {\n",
              "          const element = document.querySelector('#df-e33163b3-b7b2-4513-86e6-a20cf7f86984');\n",
              "          const dataTable =\n",
              "            await google.colab.kernel.invokeFunction('convertToInteractive',\n",
              "                                                     [key], {});\n",
              "          if (!dataTable) return;\n",
              "\n",
              "          const docLinkHtml = 'Like what you see? Visit the ' +\n",
              "            '<a target=\"_blank\" href=https://colab.research.google.com/notebooks/data_table.ipynb>data table notebook</a>'\n",
              "            + ' to learn more about interactive tables.';\n",
              "          element.innerHTML = '';\n",
              "          dataTable['output_type'] = 'display_data';\n",
              "          await google.colab.output.renderOutput(dataTable, element);\n",
              "          const docLink = document.createElement('div');\n",
              "          docLink.innerHTML = docLinkHtml;\n",
              "          element.appendChild(docLink);\n",
              "        }\n",
              "      </script>\n",
              "    </div>\n",
              "  </div>\n",
              "  "
            ]
          },
          "metadata": {},
          "execution_count": 3
        }
      ]
    },
    {
      "cell_type": "markdown",
      "source": [
        "Create a correlation matrix to see the correlation between all features"
      ],
      "metadata": {
        "id": "GETAxbf6IZ1r"
      }
    },
    {
      "cell_type": "code",
      "source": [
        "sns.set(rc={'figure.figsize':(12,8)})\n",
        "\n",
        "sns.heatmap(body.corr())\n",
        "plt.title(\"Correlation Plot\")\n",
        "plt.show()"
      ],
      "metadata": {
        "colab": {
          "base_uri": "https://localhost:8080/",
          "height": 544
        },
        "id": "Qu-K7l1lIgz1",
        "outputId": "034dc24c-b6cb-40ed-9f77-5c6c643abc67"
      },
      "execution_count": null,
      "outputs": [
        {
          "output_type": "display_data",
          "data": {
            "text/plain": [
              "<Figure size 864x576 with 2 Axes>"
            ],
            "image/png": "[encoded data removed]"
          },
          "metadata": {}
        }
      ]
    },
    {
      "cell_type": "markdown",
      "source": [
        "We can see that density is have a negative correlation with almost all the other features, and this is because the formula that the creator of the dataset was using, which is the Siri's equation. \n",
        "\n",
        "There is a discussion on kaggle that \"*This is because Body fat has been calculated using a formular involving Density. Hence it would be correct to leave this variable out of the model building process.*\" Therefore, I will drop the density feature since I want to build a machine learning model to predict the body fat. \n",
        "\n",
        "Here is the link to that discussion: https://www.kaggle.com/datasets/fedesoriano/body-fat-prediction-dataset/discussion/303555?resource=download"
      ],
      "metadata": {
        "id": "HBNZOUsfJOHW"
      }
    },
    {
      "cell_type": "markdown",
      "source": [
        "Check the columns and shape of the dataframe before dropping the density column"
      ],
      "metadata": {
        "id": "No_3QTnsK3vP"
      }
    },
    {
      "cell_type": "code",
      "source": [
        "body.columns"
      ],
      "metadata": {
        "colab": {
          "base_uri": "https://localhost:8080/"
        },
        "id": "2HaTiLMXJ6pl",
        "outputId": "7715d7e6-b677-4882-ec3e-a94aa3cf69d2"
      },
      "execution_count": null,
      "outputs": [
        {
          "output_type": "execute_result",
          "data": {
            "text/plain": [
              "Index(['Density', 'BodyFat', 'Age', 'Weight', 'Height', 'Neck', 'Chest',\n",
              "       'Abdomen', 'Hip', 'Thigh', 'Knee', 'Ankle', 'Biceps', 'Forearm',\n",
              "       'Wrist'],\n",
              "      dtype='object')"
            ]
          },
          "metadata": {},
          "execution_count": 5
        }
      ]
    },
    {
      "cell_type": "code",
      "source": [
        "body.shape"
      ],
      "metadata": {
        "colab": {
          "base_uri": "https://localhost:8080/"
        },
        "id": "wV5lY3vmJ6kN",
        "outputId": "5822a860-afb5-4cc8-82ca-13c360cb2276"
      },
      "execution_count": null,
      "outputs": [
        {
          "output_type": "execute_result",
          "data": {
            "text/plain": [
              "(252, 15)"
            ]
          },
          "metadata": {},
          "execution_count": 6
        }
      ]
    },
    {
      "cell_type": "code",
      "source": [
        "body.info()"
      ],
      "metadata": {
        "colab": {
          "base_uri": "https://localhost:8080/"
        },
        "id": "sRb9qmoRLLbW",
        "outputId": "1a9b5387-22d8-467f-8256-8df72ed9a1a6"
      },
      "execution_count": null,
      "outputs": [
        {
          "output_type": "stream",
          "name": "stdout",
          "text": [
            "<class 'pandas.core.frame.DataFrame'>\n",
            "RangeIndex: 252 entries, 0 to 251\n",
            "Data columns (total 15 columns):\n",
            " #   Column   Non-Null Count  Dtype  \n",
            "---  ------   --------------  -----  \n",
            " 0   Density  252 non-null    float64\n",
            " 1   BodyFat  252 non-null    float64\n",
            " 2   Age      252 non-null    int64  \n",
            " 3   Weight   252 non-null    float64\n",
            " 4   Height   252 non-null    float64\n",
            " 5   Neck     252 non-null    float64\n",
            " 6   Chest    252 non-null    float64\n",
            " 7   Abdomen  252 non-null    float64\n",
            " 8   Hip      252 non-null    float64\n",
            " 9   Thigh    252 non-null    float64\n",
            " 10  Knee     252 non-null    float64\n",
            " 11  Ankle    252 non-null    float64\n",
            " 12  Biceps   252 non-null    float64\n",
            " 13  Forearm  252 non-null    float64\n",
            " 14  Wrist    252 non-null    float64\n",
            "dtypes: float64(14), int64(1)\n",
            "memory usage: 29.7 KB\n"
          ]
        }
      ]
    },
    {
      "cell_type": "markdown",
      "source": [
        "Drop the density column"
      ],
      "metadata": {
        "id": "rcNok_zlLXnt"
      }
    },
    {
      "cell_type": "code",
      "source": [
        "body = body.drop(['Density'], axis = 1)\n",
        "body.head()"
      ],
      "metadata": {
        "colab": {
          "base_uri": "https://localhost:8080/",
          "height": 206
        },
        "id": "QQZRiTl2Lbs-",
        "outputId": "3f174087-beb4-44ee-c72e-91b8d191bde8"
      },
      "execution_count": null,
      "outputs": [
        {
          "output_type": "execute_result",
          "data": {
            "text/plain": [
              "   BodyFat  Age  Weight  Height  Neck  Chest  Abdomen    Hip  Thigh  Knee  \\\n",
              "0     12.3   23  154.25   67.75  36.2   93.1     85.2   94.5   59.0  37.3   \n",
              "1      6.1   22  173.25   72.25  38.5   93.6     83.0   98.7   58.7  37.3   \n",
              "2     25.3   22  154.00   66.25  34.0   95.8     87.9   99.2   59.6  38.9   \n",
              "3     10.4   26  184.75   72.25  37.4  101.8     86.4  101.2   60.1  37.3   \n",
              "4     28.7   24  184.25   71.25  34.4   97.3    100.0  101.9   63.2  42.2   \n",
              "\n",
              "   Ankle  Biceps  Forearm  Wrist  \n",
              "0   21.9    32.0     27.4   17.1  \n",
              "1   23.4    30.5     28.9   18.2  \n",
              "2   24.0    28.8     25.2   16.6  \n",
              "3   22.8    32.4     29.4   18.2  \n",
              "4   24.0    32.2     27.7   17.7  "
            ],
            "text/html": [
              "\n",
              "  <div id=\"df-ca562930-232a-416b-b38c-684c148a0cf5\">\n",
              "    <div class=\"colab-df-container\">\n",
              "      <div>\n",
              "<style scoped>\n",
              "    .dataframe tbody tr th:only-of-type {\n",
              "        vertical-align: middle;\n",
              "    }\n",
              "\n",
              "    .dataframe tbody tr th {\n",
              "        vertical-align: top;\n",
              "    }\n",
              "\n",
              "    .dataframe thead th {\n",
              "        text-align: right;\n",
              "    }\n",
              "</style>\n",
              "<table border=\"1\" class=\"dataframe\">\n",
              "  <thead>\n",
              "    <tr style=\"text-align: right;\">\n",
              "      <th></th>\n",
              "      <th>BodyFat</th>\n",
              "      <th>Age</th>\n",
              "      <th>Weight</th>\n",
              "      <th>Height</th>\n",
              "      <th>Neck</th>\n",
              "      <th>Chest</th>\n",
              "      <th>Abdomen</th>\n",
              "      <th>Hip</th>\n",
              "      <th>Thigh</th>\n",
              "      <th>Knee</th>\n",
              "      <th>Ankle</th>\n",
              "      <th>Biceps</th>\n",
              "      <th>Forearm</th>\n",
              "      <th>Wrist</th>\n",
              "    </tr>\n",
              "  </thead>\n",
              "  <tbody>\n",
              "    <tr>\n",
              "      <th>0</th>\n",
              "      <td>12.3</td>\n",
              "      <td>23</td>\n",
              "      <td>154.25</td>\n",
              "      <td>67.75</td>\n",
              "      <td>36.2</td>\n",
              "      <td>93.1</td>\n",
              "      <td>85.2</td>\n",
              "      <td>94.5</td>\n",
              "      <td>59.0</td>\n",
              "      <td>37.3</td>\n",
              "      <td>21.9</td>\n",
              "      <td>32.0</td>\n",
              "      <td>27.4</td>\n",
              "      <td>17.1</td>\n",
              "    </tr>\n",
              "    <tr>\n",
              "      <th>1</th>\n",
              "      <td>6.1</td>\n",
              "      <td>22</td>\n",
              "      <td>173.25</td>\n",
              "      <td>72.25</td>\n",
              "      <td>38.5</td>\n",
              "      <td>93.6</td>\n",
              "      <td>83.0</td>\n",
              "      <td>98.7</td>\n",
              "      <td>58.7</td>\n",
              "      <td>37.3</td>\n",
              "      <td>23.4</td>\n",
              "      <td>30.5</td>\n",
              "      <td>28.9</td>\n",
              "      <td>18.2</td>\n",
              "    </tr>\n",
              "    <tr>\n",
              "      <th>2</th>\n",
              "      <td>25.3</td>\n",
              "      <td>22</td>\n",
              "      <td>154.00</td>\n",
              "      <td>66.25</td>\n",
              "      <td>34.0</td>\n",
              "      <td>95.8</td>\n",
              "      <td>87.9</td>\n",
              "      <td>99.2</td>\n",
              "      <td>59.6</td>\n",
              "      <td>38.9</td>\n",
              "      <td>24.0</td>\n",
              "      <td>28.8</td>\n",
              "      <td>25.2</td>\n",
              "      <td>16.6</td>\n",
              "    </tr>\n",
              "    <tr>\n",
              "      <th>3</th>\n",
              "      <td>10.4</td>\n",
              "      <td>26</td>\n",
              "      <td>184.75</td>\n",
              "      <td>72.25</td>\n",
              "      <td>37.4</td>\n",
              "      <td>101.8</td>\n",
              "      <td>86.4</td>\n",
              "      <td>101.2</td>\n",
              "      <td>60.1</td>\n",
              "      <td>37.3</td>\n",
              "      <td>22.8</td>\n",
              "      <td>32.4</td>\n",
              "      <td>29.4</td>\n",
              "      <td>18.2</td>\n",
              "    </tr>\n",
              "    <tr>\n",
              "      <th>4</th>\n",
              "      <td>28.7</td>\n",
              "      <td>24</td>\n",
              "      <td>184.25</td>\n",
              "      <td>71.25</td>\n",
              "      <td>34.4</td>\n",
              "      <td>97.3</td>\n",
              "      <td>100.0</td>\n",
              "      <td>101.9</td>\n",
              "      <td>63.2</td>\n",
              "      <td>42.2</td>\n",
              "      <td>24.0</td>\n",
              "      <td>32.2</td>\n",
              "      <td>27.7</td>\n",
              "      <td>17.7</td>\n",
              "    </tr>\n",
              "  </tbody>\n",
              "</table>\n",
              "</div>\n",
              "      <button class=\"colab-df-convert\" onclick=\"convertToInteractive('df-ca562930-232a-416b-b38c-684c148a0cf5')\"\n",
              "              title=\"Convert this dataframe to an interactive table.\"\n",
              "              style=\"display:none;\">\n",
              "        \n",
              "  <svg xmlns=\"http://www.w3.org/2000/svg\" height=\"24px\"viewBox=\"0 0 24 24\"\n",
              "       width=\"24px\">\n",
              "    <path d=\"M0 0h24v24H0V0z\" fill=\"none\"/>\n",
              "    <path d=\"M18.56 5.44l.94 2.06.94-2.06 2.06-.94-2.06-.94-.94-2.06-.94 2.06-2.06.94zm-11 1L8.5 8.5l.94-2.06 2.06-.94-2.06-.94L8.5 2.5l-.94 2.06-2.06.94zm10 10l.94 2.06.94-2.06 2.06-.94-2.06-.94-.94-2.06-.94 2.06-2.06.94z\"/><path d=\"M17.41 7.96l-1.37-1.37c-.4-.4-.92-.59-1.43-.59-.52 0-1.04.2-1.43.59L10.3 9.45l-7.72 7.72c-.78.78-.78 2.05 0 2.83L4 21.41c.39.39.9.59 1.41.59.51 0 1.02-.2 1.41-.59l7.78-7.78 2.81-2.81c.8-.78.8-2.07 0-2.86zM5.41 20L4 18.59l7.72-7.72 1.47 1.35L5.41 20z\"/>\n",
              "  </svg>\n",
              "      </button>\n",
              "      \n",
              "  <style>\n",
              "    .colab-df-container {\n",
              "      display:flex;\n",
              "      flex-wrap:wrap;\n",
              "      gap: 12px;\n",
              "    }\n",
              "\n",
              "    .colab-df-convert {\n",
              "      background-color: #E8F0FE;\n",
              "      border: none;\n",
              "      border-radius: 50%;\n",
              "      cursor: pointer;\n",
              "      display: none;\n",
              "      fill: #1967D2;\n",
              "      height: 32px;\n",
              "      padding: 0 0 0 0;\n",
              "      width: 32px;\n",
              "    }\n",
              "\n",
              "    .colab-df-convert:hover {\n",
              "      background-color: #E2EBFA;\n",
              "      box-shadow: 0px 1px 2px rgba(60, 64, 67, 0.3), 0px 1px 3px 1px rgba(60, 64, 67, 0.15);\n",
              "      fill: #174EA6;\n",
              "    }\n",
              "\n",
              "    [theme=dark] .colab-df-convert {\n",
              "      background-color: #3B4455;\n",
              "      fill: #D2E3FC;\n",
              "    }\n",
              "\n",
              "    [theme=dark] .colab-df-convert:hover {\n",
              "      background-color: #434B5C;\n",
              "      box-shadow: 0px 1px 3px 1px rgba(0, 0, 0, 0.15);\n",
              "      filter: drop-shadow(0px 1px 2px rgba(0, 0, 0, 0.3));\n",
              "      fill: #FFFFFF;\n",
              "    }\n",
              "  </style>\n",
              "\n",
              "      <script>\n",
              "        const buttonEl =\n",
              "          document.querySelector('#df-ca562930-232a-416b-b38c-684c148a0cf5 button.colab-df-convert');\n",
              "        buttonEl.style.display =\n",
              "          google.colab.kernel.accessAllowed ? 'block' : 'none';\n",
              "\n",
              "        async function convertToInteractive(key) {\n",
              "          const element = document.querySelector('#df-ca562930-232a-416b-b38c-684c148a0cf5');\n",
              "          const dataTable =\n",
              "            await google.colab.kernel.invokeFunction('convertToInteractive',\n",
              "                                                     [key], {});\n",
              "          if (!dataTable) return;\n",
              "\n",
              "          const docLinkHtml = 'Like what you see? Visit the ' +\n",
              "            '<a target=\"_blank\" href=https://colab.research.google.com/notebooks/data_table.ipynb>data table notebook</a>'\n",
              "            + ' to learn more about interactive tables.';\n",
              "          element.innerHTML = '';\n",
              "          dataTable['output_type'] = 'display_data';\n",
              "          await google.colab.output.renderOutput(dataTable, element);\n",
              "          const docLink = document.createElement('div');\n",
              "          docLink.innerHTML = docLinkHtml;\n",
              "          element.appendChild(docLink);\n",
              "        }\n",
              "      </script>\n",
              "    </div>\n",
              "  </div>\n",
              "  "
            ]
          },
          "metadata": {},
          "execution_count": 8
        }
      ]
    },
    {
      "cell_type": "markdown",
      "source": [
        "Also check if there's any null values in the columns"
      ],
      "metadata": {
        "id": "fuonZzFpLo_2"
      }
    },
    {
      "cell_type": "code",
      "source": [
        "body.isnull().sum()"
      ],
      "metadata": {
        "colab": {
          "base_uri": "https://localhost:8080/"
        },
        "id": "fFLiHahuLmne",
        "outputId": "1961c6c5-93b0-4bbf-a7a6-7f95e2f0443c"
      },
      "execution_count": null,
      "outputs": [
        {
          "output_type": "execute_result",
          "data": {
            "text/plain": [
              "BodyFat    0\n",
              "Age        0\n",
              "Weight     0\n",
              "Height     0\n",
              "Neck       0\n",
              "Chest      0\n",
              "Abdomen    0\n",
              "Hip        0\n",
              "Thigh      0\n",
              "Knee       0\n",
              "Ankle      0\n",
              "Biceps     0\n",
              "Forearm    0\n",
              "Wrist      0\n",
              "dtype: int64"
            ]
          },
          "metadata": {},
          "execution_count": 9
        }
      ]
    },
    {
      "cell_type": "markdown",
      "source": [
        "Visualize the distribution of age in the dataset"
      ],
      "metadata": {
        "id": "c98SnIEVMKON"
      }
    },
    {
      "cell_type": "code",
      "source": [
        "sns.histplot(data = body['Age'], color = 'steelblue', alpha = 0.6)\n",
        "plt.title(\"Histogram of Age Distribution\")\n",
        "plt.show()"
      ],
      "metadata": {
        "colab": {
          "base_uri": "https://localhost:8080/",
          "height": 518
        },
        "id": "uyNWWI4EMJu9",
        "outputId": "e4e1e37f-697e-4232-f391-eb43a22ff987"
      },
      "execution_count": null,
      "outputs": [
        {
          "output_type": "display_data",
          "data": {
            "text/plain": [
              "<Figure size 864x576 with 1 Axes>"
            ],
            "image/png": "[encoded data removed]"
          },
          "metadata": {}
        }
      ]
    },
    {
      "cell_type": "markdown",
      "source": [
        "Create combo chart to visualize the height and weight comparing to the age from the dataset.\n",
        "\n",
        "Reference Link: https://towardsdatascience.com/creating-a-dual-axis-combo-chart-in-python-52624b187834"
      ],
      "metadata": {
        "id": "FzX-Zgw_Op3o"
      }
    },
    {
      "cell_type": "code",
      "source": [
        "#Calculate the average weight based on age group\n",
        "avg_weight = body.groupby('Age', as_index=False)['Weight'].mean()\n",
        "\n",
        "#Calculate the average height based on age group\n",
        "avg_height = body.groupby('Age', as_index=False)['Height'].mean()\n",
        "\n",
        "#Get all unique age\n",
        "age = body['Age'].unique()\n",
        "age.sort()\n",
        "\n",
        "#Create a new dataframe for the combo chart to use\n",
        "d = {'Age':age, 'Average_Weight':avg_weight['Weight'], 'Average_Height':avg_height['Height']}\n",
        "df = pd.DataFrame(d)\n",
        "df.head()"
      ],
      "metadata": {
        "colab": {
          "base_uri": "https://localhost:8080/",
          "height": 206
        },
        "id": "EC0_7H-GhnAF",
        "outputId": "cef82118-eb37-4af4-9d2f-62c8a3f11e6d"
      },
      "execution_count": null,
      "outputs": [
        {
          "output_type": "execute_result",
          "data": {
            "text/plain": [
              "   Age  Average_Weight  Average_Height\n",
              "0   22      163.625000       69.250000\n",
              "1   23      175.100000       72.750000\n",
              "2   24      189.750000       72.375000\n",
              "3   25      179.312500       72.187500\n",
              "4   26      194.833333       71.708333"
            ],
            "text/html": [
              "\n",
              "  <div id=\"df-6e329e97-f1d1-4331-a029-c6b75296681d\">\n",
              "    <div class=\"colab-df-container\">\n",
              "      <div>\n",
              "<style scoped>\n",
              "    .dataframe tbody tr th:only-of-type {\n",
              "        vertical-align: middle;\n",
              "    }\n",
              "\n",
              "    .dataframe tbody tr th {\n",
              "        vertical-align: top;\n",
              "    }\n",
              "\n",
              "    .dataframe thead th {\n",
              "        text-align: right;\n",
              "    }\n",
              "</style>\n",
              "<table border=\"1\" class=\"dataframe\">\n",
              "  <thead>\n",
              "    <tr style=\"text-align: right;\">\n",
              "      <th></th>\n",
              "      <th>Age</th>\n",
              "      <th>Average_Weight</th>\n",
              "      <th>Average_Height</th>\n",
              "    </tr>\n",
              "  </thead>\n",
              "  <tbody>\n",
              "    <tr>\n",
              "      <th>0</th>\n",
              "      <td>22</td>\n",
              "      <td>163.625000</td>\n",
              "      <td>69.250000</td>\n",
              "    </tr>\n",
              "    <tr>\n",
              "      <th>1</th>\n",
              "      <td>23</td>\n",
              "      <td>175.100000</td>\n",
              "      <td>72.750000</td>\n",
              "    </tr>\n",
              "    <tr>\n",
              "      <th>2</th>\n",
              "      <td>24</td>\n",
              "      <td>189.750000</td>\n",
              "      <td>72.375000</td>\n",
              "    </tr>\n",
              "    <tr>\n",
              "      <th>3</th>\n",
              "      <td>25</td>\n",
              "      <td>179.312500</td>\n",
              "      <td>72.187500</td>\n",
              "    </tr>\n",
              "    <tr>\n",
              "      <th>4</th>\n",
              "      <td>26</td>\n",
              "      <td>194.833333</td>\n",
              "      <td>71.708333</td>\n",
              "    </tr>\n",
              "  </tbody>\n",
              "</table>\n",
              "</div>\n",
              "      <button class=\"colab-df-convert\" onclick=\"convertToInteractive('df-6e329e97-f1d1-4331-a029-c6b75296681d')\"\n",
              "              title=\"Convert this dataframe to an interactive table.\"\n",
              "              style=\"display:none;\">\n",
              "        \n",
              "  <svg xmlns=\"http://www.w3.org/2000/svg\" height=\"24px\"viewBox=\"0 0 24 24\"\n",
              "       width=\"24px\">\n",
              "    <path d=\"M0 0h24v24H0V0z\" fill=\"none\"/>\n",
              "    <path d=\"M18.56 5.44l.94 2.06.94-2.06 2.06-.94-2.06-.94-.94-2.06-.94 2.06-2.06.94zm-11 1L8.5 8.5l.94-2.06 2.06-.94-2.06-.94L8.5 2.5l-.94 2.06-2.06.94zm10 10l.94 2.06.94-2.06 2.06-.94-2.06-.94-.94-2.06-.94 2.06-2.06.94z\"/><path d=\"M17.41 7.96l-1.37-1.37c-.4-.4-.92-.59-1.43-.59-.52 0-1.04.2-1.43.59L10.3 9.45l-7.72 7.72c-.78.78-.78 2.05 0 2.83L4 21.41c.39.39.9.59 1.41.59.51 0 1.02-.2 1.41-.59l7.78-7.78 2.81-2.81c.8-.78.8-2.07 0-2.86zM5.41 20L4 18.59l7.72-7.72 1.47 1.35L5.41 20z\"/>\n",
              "  </svg>\n",
              "      </button>\n",
              "      \n",
              "  <style>\n",
              "    .colab-df-container {\n",
              "      display:flex;\n",
              "      flex-wrap:wrap;\n",
              "      gap: 12px;\n",
              "    }\n",
              "\n",
              "    .colab-df-convert {\n",
              "      background-color: #E8F0FE;\n",
              "      border: none;\n",
              "      border-radius: 50%;\n",
              "      cursor: pointer;\n",
              "      display: none;\n",
              "      fill: #1967D2;\n",
              "      height: 32px;\n",
              "      padding: 0 0 0 0;\n",
              "      width: 32px;\n",
              "    }\n",
              "\n",
              "    .colab-df-convert:hover {\n",
              "      background-color: #E2EBFA;\n",
              "      box-shadow: 0px 1px 2px rgba(60, 64, 67, 0.3), 0px 1px 3px 1px rgba(60, 64, 67, 0.15);\n",
              "      fill: #174EA6;\n",
              "    }\n",
              "\n",
              "    [theme=dark] .colab-df-convert {\n",
              "      background-color: #3B4455;\n",
              "      fill: #D2E3FC;\n",
              "    }\n",
              "\n",
              "    [theme=dark] .colab-df-convert:hover {\n",
              "      background-color: #434B5C;\n",
              "      box-shadow: 0px 1px 3px 1px rgba(0, 0, 0, 0.15);\n",
              "      filter: drop-shadow(0px 1px 2px rgba(0, 0, 0, 0.3));\n",
              "      fill: #FFFFFF;\n",
              "    }\n",
              "  </style>\n",
              "\n",
              "      <script>\n",
              "        const buttonEl =\n",
              "          document.querySelector('#df-6e329e97-f1d1-4331-a029-c6b75296681d button.colab-df-convert');\n",
              "        buttonEl.style.display =\n",
              "          google.colab.kernel.accessAllowed ? 'block' : 'none';\n",
              "\n",
              "        async function convertToInteractive(key) {\n",
              "          const element = document.querySelector('#df-6e329e97-f1d1-4331-a029-c6b75296681d');\n",
              "          const dataTable =\n",
              "            await google.colab.kernel.invokeFunction('convertToInteractive',\n",
              "                                                     [key], {});\n",
              "          if (!dataTable) return;\n",
              "\n",
              "          const docLinkHtml = 'Like what you see? Visit the ' +\n",
              "            '<a target=\"_blank\" href=https://colab.research.google.com/notebooks/data_table.ipynb>data table notebook</a>'\n",
              "            + ' to learn more about interactive tables.';\n",
              "          element.innerHTML = '';\n",
              "          dataTable['output_type'] = 'display_data';\n",
              "          await google.colab.output.renderOutput(dataTable, element);\n",
              "          const docLink = document.createElement('div');\n",
              "          docLink.innerHTML = docLinkHtml;\n",
              "          element.appendChild(docLink);\n",
              "        }\n",
              "      </script>\n",
              "    </div>\n",
              "  </div>\n",
              "  "
            ]
          },
          "metadata": {},
          "execution_count": 11
        }
      ]
    },
    {
      "cell_type": "markdown",
      "source": [
        "For this visualization, somehow the line plot is not generating correctly, that it starts with age 44 as the first point instead of age 22. I checked the dataframe that I am using for this plot, looks like it is taking the Age as the index, that age 44 is located at index 22. I haven't figure out how to fix this problem yet, but I will definitely go back to this visualization later on if I find any solutions."
      ],
      "metadata": {
        "id": "UHCRNxSzQ3SF"
      }
    },
    {
      "cell_type": "code",
      "source": [
        "ax1 = sns.lineplot(\n",
        "    x = 'Age',\n",
        "    y = 'Average_Weight',\n",
        "    data = df,\n",
        "    sort = False,\n",
        "    color = 'darkorange'\n",
        ")\n",
        "ax1.set_ylabel('Average Weight (lbs)')\n",
        "ax1.set_ylim(120,230)\n",
        "ax1.legend(['Average_Weight'], loc = 'upper left')\n",
        "\n",
        "ax2 = ax1.twinx()\n",
        "\n",
        "sns.barplot(\n",
        "    x = 'Age',\n",
        "    y = 'Average_Height',\n",
        "    data = df,\n",
        "    color = 'steelblue',\n",
        "    alpha = 0.6,\n",
        "    ax = ax2\n",
        ")\n",
        "\n",
        "ax2.grid(b = False)\n",
        "ax2.set_ylabel('Average Height (inches)')\n",
        "ax2.set_ylim(60, 80)\n",
        "ax2.legend(['Average_Height'], loc = 'upper right')\n",
        "\n",
        "plt.title('Combo Chart Comparing Height and Weight (Age 22 - 81)')\n",
        "plt.show()"
      ],
      "metadata": {
        "colab": {
          "base_uri": "https://localhost:8080/",
          "height": 518
        },
        "id": "a7AfsQEKOpep",
        "outputId": "ade53ed5-cafa-4021-9473-4cda6e8943a5"
      },
      "execution_count": null,
      "outputs": [
        {
          "output_type": "display_data",
          "data": {
            "text/plain": [
              "<Figure size 864x576 with 2 Axes>"
            ],
            "image/png": "[encoded data removed]"
          },
          "metadata": {}
        }
      ]
    },
    {
      "cell_type": "markdown",
      "source": [
        "Create scatterplot to better picture the correlation between abdomen and body fat since they have a strong positive correlation based on the correlation matrix.\n",
        "\n"
      ],
      "metadata": {
        "id": "9ibAr0LIw5p5"
      }
    },
    {
      "cell_type": "code",
      "source": [
        "sns.lmplot(x = 'Abdomen', y = 'BodyFat', data = body, height = 8).set(title='Correlation Plot - Abdomen vs Body Fat')\n",
        "plt.show()"
      ],
      "metadata": {
        "colab": {
          "base_uri": "https://localhost:8080/",
          "height": 597
        },
        "id": "4bU3qgERxdjF",
        "outputId": "cecb472e-baaf-43b1-bbc9-0717e9014b38"
      },
      "execution_count": null,
      "outputs": [
        {
          "output_type": "display_data",
          "data": {
            "text/plain": [
              "<Figure size 576x576 with 1 Axes>"
            ],
            "image/png": "[encoded data removed]"
          },
          "metadata": {}
        }
      ]
    },
    {
      "cell_type": "markdown",
      "source": [
        "Create scatterplot to picture the correlation between body fat and height, because based on the correlation matrix, these two are having a weak, negative correlation"
      ],
      "metadata": {
        "id": "xemw5x-TDCwz"
      }
    },
    {
      "cell_type": "code",
      "source": [
        "sns.lmplot(x = 'Height', y = 'BodyFat', data = body, height = 8).set(title='Correlation Plot - Height vs Body Fat')\n",
        "plt.show()"
      ],
      "metadata": {
        "colab": {
          "base_uri": "https://localhost:8080/",
          "height": 597
        },
        "id": "fVavoAsrDSGT",
        "outputId": "82e6c3c5-b87b-41cb-ae69-d80bd8f95b44"
      },
      "execution_count": null,
      "outputs": [
        {
          "output_type": "display_data",
          "data": {
            "text/plain": [
              "<Figure size 576x576 with 1 Axes>"
            ],
            "image/png": "[encoded data removed]"
          },
          "metadata": {}
        }
      ]
    },
    {
      "cell_type": "markdown",
      "source": [
        "Separate the data into features(X) and targets(Y)\n",
        "\n",
        "The Height will not be included in the feature set since it shows a weak correlation.\n",
        "\n",
        "BodyFat is what we are trying to estimate (y).\n",
        "\n"
      ],
      "metadata": {
        "id": "bCTxAaNUx-Gw"
      }
    },
    {
      "cell_type": "code",
      "source": [
        "#Splitting the dataset into features and targets\n",
        "X = body.drop(['BodyFat', 'Height'], axis = 1).values\n",
        "y = body['BodyFat'].values"
      ],
      "metadata": {
        "id": "HfJdYuN2FBXW"
      },
      "execution_count": null,
      "outputs": []
    },
    {
      "cell_type": "markdown",
      "source": [
        "Take a look at the feature set"
      ],
      "metadata": {
        "id": "5tXE6E4YFvoh"
      }
    },
    {
      "cell_type": "code",
      "source": [
        "print(X)"
      ],
      "metadata": {
        "colab": {
          "base_uri": "https://localhost:8080/"
        },
        "id": "-kHTB-AFFmRA",
        "outputId": "fbeac0f8-e672-4beb-ea2e-d31c3dfe4c2a"
      },
      "execution_count": null,
      "outputs": [
        {
          "output_type": "stream",
          "name": "stdout",
          "text": [
            "[[ 23.   154.25  36.2  ...  32.    27.4   17.1 ]\n",
            " [ 22.   173.25  38.5  ...  30.5   28.9   18.2 ]\n",
            " [ 22.   154.    34.   ...  28.8   25.2   16.6 ]\n",
            " ...\n",
            " [ 72.   186.75  38.9  ...  31.3   27.2   18.  ]\n",
            " [ 72.   190.75  38.9  ...  30.5   29.4   19.8 ]\n",
            " [ 74.   207.5   40.8  ...  33.7   30.    20.9 ]]\n"
          ]
        }
      ]
    },
    {
      "cell_type": "markdown",
      "source": [
        "Take a look at the target"
      ],
      "metadata": {
        "id": "Gp1HAUoMF2py"
      }
    },
    {
      "cell_type": "code",
      "source": [
        "print(y)"
      ],
      "metadata": {
        "colab": {
          "base_uri": "https://localhost:8080/"
        },
        "id": "gprU5xF1FssY",
        "outputId": "493240e6-8cf8-4901-d641-33c98045cc83"
      },
      "execution_count": null,
      "outputs": [
        {
          "output_type": "stream",
          "name": "stdout",
          "text": [
            "[12.3  6.1 25.3 10.4 28.7 20.9 19.2 12.4  4.1 11.7  7.1  7.8 20.8 21.2\n",
            " 22.1 20.9 29.  22.9 16.  16.5 19.1 15.2 15.6 17.7 14.   3.7  7.9 22.9\n",
            "  3.7  8.8 11.9  5.7 11.8 21.3 32.3 40.1 24.2 28.4 35.2 32.6 34.5 32.9\n",
            " 31.6 32.   7.7 13.9 10.8  5.6 13.6  4.  10.2  6.6  8.   6.3  3.9 22.6\n",
            " 20.4 28.  31.5 24.6 26.1 29.8 30.7 25.8 32.3 30.  21.5 13.8  6.3 12.9\n",
            " 24.3  8.8  8.5 13.5 11.8 18.5  8.8 22.2 21.5 18.8 31.4 26.8 18.4 27.\n",
            " 27.  26.6 14.9 23.1  8.3 14.1 20.5 18.2  8.5 24.9  9.  17.4  9.6 11.3\n",
            " 17.8 22.2 21.2 20.4 20.1 22.3 25.4 18.  19.3 18.3 17.3 21.4 19.7 28.\n",
            " 22.1 21.3 26.7 16.7 20.1 13.9 25.8 18.1 27.9 25.3 14.7 16.  13.8 17.5\n",
            " 27.2 17.4 20.8 14.9 18.1 22.7 23.6 26.1 24.4 27.1 21.8 29.4 22.4 20.4\n",
            " 24.9 18.3 23.3  9.4 10.3 14.2 19.2 29.6  5.3 25.2  9.4 19.6 10.1 16.5\n",
            " 21.  17.3 31.2 10.  12.5 22.5  9.4 14.6 13.  15.1 27.3 19.2 21.8 20.3\n",
            " 34.3 16.5  3.   0.7 20.5 16.9 25.3  9.9 13.1 29.9 22.5 16.9 26.6  0.\n",
            " 11.5 12.1 17.5  8.6 23.6 20.4 20.5 24.4 11.4 38.1 15.9 24.7 22.8 25.5\n",
            " 22.  17.7  6.6 23.6 12.2 22.1 28.7  6.  34.8 16.6 32.9 32.8  9.6 10.8\n",
            "  7.1 27.2 19.5 18.7 19.5 47.5 13.6  7.5 24.5 15.  12.4 26.  11.5  5.2\n",
            " 10.9 12.5 14.8 25.2 14.9 17.  10.6 16.1 15.4 26.7 25.8 18.6 24.8 27.3\n",
            " 12.4 29.9 17.  35.  30.4 32.6 29.  15.2 30.2 11.  33.6 29.3 26.  31.9]\n"
          ]
        }
      ]
    },
    {
      "cell_type": "code",
      "source": [
        "y_range = y.max() - y.min()\n",
        "y_range"
      ],
      "metadata": {
        "colab": {
          "base_uri": "https://localhost:8080/"
        },
        "id": "noE5Kkmma8EE",
        "outputId": "1e628d77-e89b-4c40-c597-8c4bb4c9b863"
      },
      "execution_count": null,
      "outputs": [
        {
          "output_type": "execute_result",
          "data": {
            "text/plain": [
              "47.5"
            ]
          },
          "metadata": {},
          "execution_count": 34
        }
      ]
    },
    {
      "cell_type": "markdown",
      "source": [
        "Splitting the dataset into training and test sets in the ratio 70/30"
      ],
      "metadata": {
        "id": "oMxU8-xBF7Ex"
      }
    },
    {
      "cell_type": "code",
      "source": [
        "from sklearn.model_selection import train_test_split\n",
        "\n",
        "X_train, X_test, y_train, y_test = train_test_split(X, y, test_size = 0.30, random_state=2)"
      ],
      "metadata": {
        "id": "9N9effJdGZkc"
      },
      "execution_count": null,
      "outputs": []
    },
    {
      "cell_type": "code",
      "source": [
        "from sklearn.preprocessing import StandardScaler\n",
        "\n",
        "sc = StandardScaler()\n",
        "X_train = sc.fit_transform(X_train)\n",
        "X_test = sc.transform(X_test)"
      ],
      "metadata": {
        "id": "KynPk2d0Iksy"
      },
      "execution_count": null,
      "outputs": []
    },
    {
      "cell_type": "markdown",
      "source": [
        "Creating the model and fitting (training) on the training data"
      ],
      "metadata": {
        "id": "nWwLVXA_Gd_7"
      }
    },
    {
      "cell_type": "code",
      "source": [
        "from sklearn.linear_model import LinearRegression\n",
        "\n",
        "#Loading the Linear Regression Model\n",
        "LR = LinearRegression()\n",
        "\n",
        "LR.fit(X_train, y_train)"
      ],
      "metadata": {
        "colab": {
          "base_uri": "https://localhost:8080/"
        },
        "id": "Fg9GuhE1Gfhj",
        "outputId": "20e2bd46-982f-427c-af35-ae8c1d0583e0"
      },
      "execution_count": null,
      "outputs": [
        {
          "output_type": "execute_result",
          "data": {
            "text/plain": [
              "LinearRegression()"
            ]
          },
          "metadata": {},
          "execution_count": 23
        }
      ]
    },
    {
      "cell_type": "markdown",
      "source": [
        "Making Predictions on the test data"
      ],
      "metadata": {
        "id": "e9q63lSeGjvb"
      }
    },
    {
      "cell_type": "code",
      "source": [
        "y_pred = LR.predict(X_test)"
      ],
      "metadata": {
        "id": "695C2IzOGkMd"
      },
      "execution_count": null,
      "outputs": []
    },
    {
      "cell_type": "markdown",
      "source": [
        "Calculating the coefficients"
      ],
      "metadata": {
        "id": "XspUjst4Gm6k"
      }
    },
    {
      "cell_type": "code",
      "source": [
        "coefficients = LR.coef_\n",
        "print(f'Coefficients {coefficients}')"
      ],
      "metadata": {
        "colab": {
          "base_uri": "https://localhost:8080/"
        },
        "id": "ui9y1qscGoDl",
        "outputId": "8cf2e6a7-fad1-4bc9-dc27-0ea5c438adf0"
      },
      "execution_count": null,
      "outputs": [
        {
          "output_type": "stream",
          "name": "stdout",
          "text": [
            "Coefficients [ 0.42457858 -5.02205886 -0.60373316  0.39403891 11.46070965 -2.01778201\n",
            "  1.04760834  0.50950588  0.45131131  0.89498119  0.69568447 -1.31428306]\n"
          ]
        }
      ]
    },
    {
      "cell_type": "markdown",
      "source": [
        "Calculating the intercept"
      ],
      "metadata": {
        "id": "vUgiGzykHIAv"
      }
    },
    {
      "cell_type": "code",
      "source": [
        "intercept = LR.intercept_\n",
        "print(f'Intercept: {intercept}')"
      ],
      "metadata": {
        "colab": {
          "base_uri": "https://localhost:8080/"
        },
        "id": "VDJaA5HmHJHY",
        "outputId": "d41edad3-92e8-47d8-a601-3528ae38dd3a"
      },
      "execution_count": null,
      "outputs": [
        {
          "output_type": "stream",
          "name": "stdout",
          "text": [
            "Intercept: 19.56534090909092\n"
          ]
        }
      ]
    },
    {
      "cell_type": "markdown",
      "source": [
        "Calculating R-Squared"
      ],
      "metadata": {
        "id": "3xg00cfnHLdA"
      }
    },
    {
      "cell_type": "code",
      "source": [
        "from sklearn.metrics import r2_score\n",
        "r2 = r2_score(y_test, y_pred)\n",
        "print(f'R2: {r2}')"
      ],
      "metadata": {
        "colab": {
          "base_uri": "https://localhost:8080/"
        },
        "id": "PW5itqBUHLzH",
        "outputId": "ef1fc584-4747-4f0a-c1cd-2fa12bc2aafe"
      },
      "execution_count": null,
      "outputs": [
        {
          "output_type": "stream",
          "name": "stdout",
          "text": [
            "R2: 0.7383216916886485\n"
          ]
        }
      ]
    },
    {
      "cell_type": "markdown",
      "source": [
        "Calculating Mean Squared Error"
      ],
      "metadata": {
        "id": "vQ3MiuVmHQjZ"
      }
    },
    {
      "cell_type": "code",
      "source": [
        "from sklearn.metrics import mean_squared_error\n",
        "mse = mean_squared_error(y_test, y_pred)\n",
        "print(f'MSE: {mse}')"
      ],
      "metadata": {
        "colab": {
          "base_uri": "https://localhost:8080/"
        },
        "id": "OCT8eHfNHR13",
        "outputId": "6d7e699d-93ff-4592-9e43-5cbbc0a8247c"
      },
      "execution_count": null,
      "outputs": [
        {
          "output_type": "stream",
          "name": "stdout",
          "text": [
            "MSE: 17.26492725016094\n"
          ]
        }
      ]
    },
    {
      "cell_type": "markdown",
      "source": [
        "Calculating Root Mean Squared Error"
      ],
      "metadata": {
        "id": "fU9_jxjVHUnf"
      }
    },
    {
      "cell_type": "code",
      "source": [
        "rmse = mean_squared_error(y_test, y_pred, squared=False)\n",
        "print(f'RMSE: {rmse}')"
      ],
      "metadata": {
        "colab": {
          "base_uri": "https://localhost:8080/"
        },
        "id": "APlMxKtqHVBO",
        "outputId": "d48fad95-0376-47bd-948a-1dc01f11ad96"
      },
      "execution_count": null,
      "outputs": [
        {
          "output_type": "stream",
          "name": "stdout",
          "text": [
            "RMSE: 4.1551085726080546\n"
          ]
        }
      ]
    },
    {
      "cell_type": "markdown",
      "source": [
        "Calculating Mean Absolute Error"
      ],
      "metadata": {
        "id": "JYIqTtqDHYwo"
      }
    },
    {
      "cell_type": "code",
      "source": [
        "from sklearn.metrics import mean_absolute_error\n",
        "mae = mean_absolute_error(y_test, y_pred)\n",
        "print(f'MAE {mae}')"
      ],
      "metadata": {
        "colab": {
          "base_uri": "https://localhost:8080/"
        },
        "id": "IhZlpGigHaKw",
        "outputId": "e6002c3b-7343-4753-c2ca-9273bf3cc2ff"
      },
      "execution_count": null,
      "outputs": [
        {
          "output_type": "stream",
          "name": "stdout",
          "text": [
            "MAE 3.4547706062182626\n"
          ]
        }
      ]
    }
  ]
}